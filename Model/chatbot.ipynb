{
 "cells": [
  {
   "cell_type": "code",
   "execution_count": 2,
   "metadata": {},
   "outputs": [],
   "source": [
    "import pandas as pd\n",
    "import numpy as np\n",
    "from huggingface_hub import hf_hub_download\n",
    "from sentence_transformers import SentenceTransformer ## using this model to convert text into vector\n",
    "import faiss\n",
    "import warnings\n",
    "from transformers import AutoTokenizer, AutoModelForCausalLM\n",
    "warnings.filterwarnings(\"ignore\")\n",
    "import re"
   ]
  },
  {
   "cell_type": "code",
   "execution_count": 3,
   "metadata": {},
   "outputs": [
    {
     "name": "stdout",
     "output_type": "stream",
     "text": [
      "2.5.1\n",
      "True\n"
     ]
    }
   ],
   "source": [
    "import torch\n",
    "print(torch.__version__)\n",
    "print(torch.cuda.is_available())"
   ]
  },
  {
   "cell_type": "code",
   "execution_count": 4,
   "metadata": {},
   "outputs": [],
   "source": [
    "from datasets import load_dataset\n",
    "\n",
    "ds = load_dataset(\"mshojaei77/merged_mental_health_dataset\")"
   ]
  },
  {
   "cell_type": "markdown",
   "metadata": {},
   "source": [
    "## Load the dataset and get the general understanding of it"
   ]
  },
  {
   "cell_type": "code",
   "execution_count": 5,
   "metadata": {},
   "outputs": [
    {
     "name": "stdout",
     "output_type": "stream",
     "text": [
      "Data loaded successfully\n"
     ]
    }
   ],
   "source": [
    "data = pd.read_csv(\"E:\\Mental health\\Data\\data.csv\")\n",
    "print(\"Data loaded successfully\")"
   ]
  },
  {
   "cell_type": "code",
   "execution_count": 6,
   "metadata": {},
   "outputs": [],
   "source": [
    "data.rename(columns={\"instruction\": \"context\", \"input\": \"question\", \"response\": \"answer\"}, inplace=True)"
   ]
  },
  {
   "cell_type": "code",
   "execution_count": 7,
   "metadata": {},
   "outputs": [
    {
     "data": {
      "text/html": [
       "<div>\n",
       "<style scoped>\n",
       "    .dataframe tbody tr th:only-of-type {\n",
       "        vertical-align: middle;\n",
       "    }\n",
       "\n",
       "    .dataframe tbody tr th {\n",
       "        vertical-align: top;\n",
       "    }\n",
       "\n",
       "    .dataframe thead th {\n",
       "        text-align: right;\n",
       "    }\n",
       "</style>\n",
       "<table border=\"1\" class=\"dataframe\">\n",
       "  <thead>\n",
       "    <tr style=\"text-align: right;\">\n",
       "      <th></th>\n",
       "      <th>context</th>\n",
       "      <th>question</th>\n",
       "      <th>answer</th>\n",
       "    </tr>\n",
       "  </thead>\n",
       "  <tbody>\n",
       "    <tr>\n",
       "      <th>0</th>\n",
       "      <td>You are an empathetic and supportive AI chatbo...</td>\n",
       "      <td>I've been feeling so sad and overwhelmed latel...</td>\n",
       "      <td>Hey there, I'm here to listen and support you....</td>\n",
       "    </tr>\n",
       "    <tr>\n",
       "      <th>1</th>\n",
       "      <td>You are an empathetic and supportive AI chatbo...</td>\n",
       "      <td>I recently got a promotion at work, which I th...</td>\n",
       "      <td>I can understand how it can be overwhelming wh...</td>\n",
       "    </tr>\n",
       "    <tr>\n",
       "      <th>2</th>\n",
       "      <td>You are an empathetic and supportive AI chatbo...</td>\n",
       "      <td>Well, the workload has increased significantly...</td>\n",
       "      <td>It sounds like you're dealing with a lot of pr...</td>\n",
       "    </tr>\n",
       "    <tr>\n",
       "      <th>3</th>\n",
       "      <td>You are an empathetic and supportive AI chatbo...</td>\n",
       "      <td>I've been trying to prioritize my tasks and de...</td>\n",
       "      <td>It's great to hear that you're already impleme...</td>\n",
       "    </tr>\n",
       "    <tr>\n",
       "      <th>4</th>\n",
       "      <td>You are an empathetic and supportive AI chatbo...</td>\n",
       "      <td>You're right. I haven't really opened up about...</td>\n",
       "      <td>It's completely normal to feel that way, but r...</td>\n",
       "    </tr>\n",
       "  </tbody>\n",
       "</table>\n",
       "</div>"
      ],
      "text/plain": [
       "                                             context  \\\n",
       "0  You are an empathetic and supportive AI chatbo...   \n",
       "1  You are an empathetic and supportive AI chatbo...   \n",
       "2  You are an empathetic and supportive AI chatbo...   \n",
       "3  You are an empathetic and supportive AI chatbo...   \n",
       "4  You are an empathetic and supportive AI chatbo...   \n",
       "\n",
       "                                            question  \\\n",
       "0  I've been feeling so sad and overwhelmed latel...   \n",
       "1  I recently got a promotion at work, which I th...   \n",
       "2  Well, the workload has increased significantly...   \n",
       "3  I've been trying to prioritize my tasks and de...   \n",
       "4  You're right. I haven't really opened up about...   \n",
       "\n",
       "                                              answer  \n",
       "0  Hey there, I'm here to listen and support you....  \n",
       "1  I can understand how it can be overwhelming wh...  \n",
       "2  It sounds like you're dealing with a lot of pr...  \n",
       "3  It's great to hear that you're already impleme...  \n",
       "4  It's completely normal to feel that way, but r...  "
      ]
     },
     "execution_count": 7,
     "metadata": {},
     "output_type": "execute_result"
    }
   ],
   "source": [
    "data.head()"
   ]
  },
  {
   "cell_type": "code",
   "execution_count": 8,
   "metadata": {},
   "outputs": [
    {
     "name": "stdout",
     "output_type": "stream",
     "text": [
      "DATA\n",
      "-----------------\n",
      "(797947, 3)\n",
      "context     0\n",
      "question    0\n",
      "answer      0\n",
      "dtype: int64\n",
      "\n"
     ]
    }
   ],
   "source": [
    "## check for Missing Values\n",
    "print(\"DATA\")\n",
    "print(\"-----------------\")\n",
    "print(data.shape)\n",
    "print(data.isnull().sum())\n",
    "print()"
   ]
  },
  {
   "cell_type": "code",
   "execution_count": 9,
   "metadata": {},
   "outputs": [],
   "source": [
    "data.drop([\"context\"], axis=1, inplace=True) ## remove it cause it is not needed it can create problem while training"
   ]
  },
  {
   "cell_type": "code",
   "execution_count": 10,
   "metadata": {},
   "outputs": [
    {
     "data": {
      "text/html": [
       "<div>\n",
       "<style scoped>\n",
       "    .dataframe tbody tr th:only-of-type {\n",
       "        vertical-align: middle;\n",
       "    }\n",
       "\n",
       "    .dataframe tbody tr th {\n",
       "        vertical-align: top;\n",
       "    }\n",
       "\n",
       "    .dataframe thead th {\n",
       "        text-align: right;\n",
       "    }\n",
       "</style>\n",
       "<table border=\"1\" class=\"dataframe\">\n",
       "  <thead>\n",
       "    <tr style=\"text-align: right;\">\n",
       "      <th></th>\n",
       "      <th>question</th>\n",
       "      <th>answer</th>\n",
       "    </tr>\n",
       "  </thead>\n",
       "  <tbody>\n",
       "    <tr>\n",
       "      <th>0</th>\n",
       "      <td>I've been feeling so sad and overwhelmed latel...</td>\n",
       "      <td>Hey there, I'm here to listen and support you....</td>\n",
       "    </tr>\n",
       "    <tr>\n",
       "      <th>1</th>\n",
       "      <td>I recently got a promotion at work, which I th...</td>\n",
       "      <td>I can understand how it can be overwhelming wh...</td>\n",
       "    </tr>\n",
       "    <tr>\n",
       "      <th>2</th>\n",
       "      <td>Well, the workload has increased significantly...</td>\n",
       "      <td>It sounds like you're dealing with a lot of pr...</td>\n",
       "    </tr>\n",
       "    <tr>\n",
       "      <th>3</th>\n",
       "      <td>I've been trying to prioritize my tasks and de...</td>\n",
       "      <td>It's great to hear that you're already impleme...</td>\n",
       "    </tr>\n",
       "    <tr>\n",
       "      <th>4</th>\n",
       "      <td>You're right. I haven't really opened up about...</td>\n",
       "      <td>It's completely normal to feel that way, but r...</td>\n",
       "    </tr>\n",
       "  </tbody>\n",
       "</table>\n",
       "</div>"
      ],
      "text/plain": [
       "                                            question  \\\n",
       "0  I've been feeling so sad and overwhelmed latel...   \n",
       "1  I recently got a promotion at work, which I th...   \n",
       "2  Well, the workload has increased significantly...   \n",
       "3  I've been trying to prioritize my tasks and de...   \n",
       "4  You're right. I haven't really opened up about...   \n",
       "\n",
       "                                              answer  \n",
       "0  Hey there, I'm here to listen and support you....  \n",
       "1  I can understand how it can be overwhelming wh...  \n",
       "2  It sounds like you're dealing with a lot of pr...  \n",
       "3  It's great to hear that you're already impleme...  \n",
       "4  It's completely normal to feel that way, but r...  "
      ]
     },
     "execution_count": 10,
     "metadata": {},
     "output_type": "execute_result"
    }
   ],
   "source": [
    "data.head()"
   ]
  },
  {
   "cell_type": "code",
   "execution_count": 11,
   "metadata": {},
   "outputs": [],
   "source": [
    "data.duplicated().sum()\n",
    "data = data.drop_duplicates()"
   ]
  },
  {
   "cell_type": "code",
   "execution_count": 12,
   "metadata": {},
   "outputs": [],
   "source": [
    "data2 = pd.DataFrame(ds['train'])"
   ]
  },
  {
   "cell_type": "code",
   "execution_count": 13,
   "metadata": {},
   "outputs": [],
   "source": [
    "data2.rename(columns={\"Context\": \"question\", \"Response\": \"answer\"}, inplace=True)"
   ]
  },
  {
   "cell_type": "code",
   "execution_count": 14,
   "metadata": {},
   "outputs": [
    {
     "data": {
      "text/html": [
       "<div>\n",
       "<style scoped>\n",
       "    .dataframe tbody tr th:only-of-type {\n",
       "        vertical-align: middle;\n",
       "    }\n",
       "\n",
       "    .dataframe tbody tr th {\n",
       "        vertical-align: top;\n",
       "    }\n",
       "\n",
       "    .dataframe thead th {\n",
       "        text-align: right;\n",
       "    }\n",
       "</style>\n",
       "<table border=\"1\" class=\"dataframe\">\n",
       "  <thead>\n",
       "    <tr style=\"text-align: right;\">\n",
       "      <th></th>\n",
       "      <th>question</th>\n",
       "      <th>answer</th>\n",
       "    </tr>\n",
       "  </thead>\n",
       "  <tbody>\n",
       "    <tr>\n",
       "      <th>0</th>\n",
       "      <td>I'm going through some things with my feelings...</td>\n",
       "      <td>If everyone thinks you're worthless, then mayb...</td>\n",
       "    </tr>\n",
       "    <tr>\n",
       "      <th>1</th>\n",
       "      <td>I'm going through some things with my feelings...</td>\n",
       "      <td>Hello, and thank you for your question and see...</td>\n",
       "    </tr>\n",
       "    <tr>\n",
       "      <th>2</th>\n",
       "      <td>I'm going through some things with my feelings...</td>\n",
       "      <td>First thing I'd suggest is getting the sleep y...</td>\n",
       "    </tr>\n",
       "    <tr>\n",
       "      <th>3</th>\n",
       "      <td>I'm going through some things with my feelings...</td>\n",
       "      <td>Therapy is essential for those that are feelin...</td>\n",
       "    </tr>\n",
       "    <tr>\n",
       "      <th>4</th>\n",
       "      <td>I'm going through some things with my feelings...</td>\n",
       "      <td>I first want to let you know that you are not ...</td>\n",
       "    </tr>\n",
       "  </tbody>\n",
       "</table>\n",
       "</div>"
      ],
      "text/plain": [
       "                                            question  \\\n",
       "0  I'm going through some things with my feelings...   \n",
       "1  I'm going through some things with my feelings...   \n",
       "2  I'm going through some things with my feelings...   \n",
       "3  I'm going through some things with my feelings...   \n",
       "4  I'm going through some things with my feelings...   \n",
       "\n",
       "                                              answer  \n",
       "0  If everyone thinks you're worthless, then mayb...  \n",
       "1  Hello, and thank you for your question and see...  \n",
       "2  First thing I'd suggest is getting the sleep y...  \n",
       "3  Therapy is essential for those that are feelin...  \n",
       "4  I first want to let you know that you are not ...  "
      ]
     },
     "execution_count": 14,
     "metadata": {},
     "output_type": "execute_result"
    }
   ],
   "source": [
    "data2.head()"
   ]
  },
  {
   "cell_type": "code",
   "execution_count": 15,
   "metadata": {},
   "outputs": [],
   "source": [
    "data2.duplicated().sum()\n",
    "data2 = data2.drop_duplicates()"
   ]
  },
  {
   "cell_type": "code",
   "execution_count": 16,
   "metadata": {},
   "outputs": [],
   "source": [
    "data2.dropna(subset=['question', 'answer'], inplace=True)"
   ]
  },
  {
   "cell_type": "code",
   "execution_count": 17,
   "metadata": {},
   "outputs": [
    {
     "name": "stdout",
     "output_type": "stream",
     "text": [
      "DATA2\n",
      "-----------------\n",
      "(838857, 2)\n",
      "question    0\n",
      "answer      0\n",
      "dtype: int64\n",
      "\n"
     ]
    }
   ],
   "source": [
    "## check for Missing Values\n",
    "print(\"DATA2\")\n",
    "print(\"-----------------\")\n",
    "print(data2.shape)\n",
    "print(data2.isnull().sum())\n",
    "print()"
   ]
  },
  {
   "cell_type": "code",
   "execution_count": 18,
   "metadata": {},
   "outputs": [
    {
     "name": "stdout",
     "output_type": "stream",
     "text": [
      "(1636801, 2)\n",
      "                                            question  \\\n",
      "0  I've been feeling so sad and overwhelmed latel...   \n",
      "1  I recently got a promotion at work, which I th...   \n",
      "2  Well, the workload has increased significantly...   \n",
      "3  I've been trying to prioritize my tasks and de...   \n",
      "4  You're right. I haven't really opened up about...   \n",
      "\n",
      "                                              answer  \n",
      "0  Hey there, I'm here to listen and support you....  \n",
      "1  I can understand how it can be overwhelming wh...  \n",
      "2  It sounds like you're dealing with a lot of pr...  \n",
      "3  It's great to hear that you're already impleme...  \n",
      "4  It's completely normal to feel that way, but r...  \n"
     ]
    }
   ],
   "source": [
    "data = pd.concat([data, data2], ignore_index=True)\n",
    "print(data.shape)\n",
    "print(data.head())"
   ]
  },
  {
   "cell_type": "code",
   "execution_count": 19,
   "metadata": {},
   "outputs": [
    {
     "data": {
      "text/html": [
       "<div>\n",
       "<style scoped>\n",
       "    .dataframe tbody tr th:only-of-type {\n",
       "        vertical-align: middle;\n",
       "    }\n",
       "\n",
       "    .dataframe tbody tr th {\n",
       "        vertical-align: top;\n",
       "    }\n",
       "\n",
       "    .dataframe thead th {\n",
       "        text-align: right;\n",
       "    }\n",
       "</style>\n",
       "<table border=\"1\" class=\"dataframe\">\n",
       "  <thead>\n",
       "    <tr style=\"text-align: right;\">\n",
       "      <th></th>\n",
       "      <th>question</th>\n",
       "      <th>answer</th>\n",
       "    </tr>\n",
       "  </thead>\n",
       "  <tbody>\n",
       "    <tr>\n",
       "      <th>0</th>\n",
       "      <td>I've been feeling so sad and overwhelmed latel...</td>\n",
       "      <td>Hey there, I'm here to listen and support you....</td>\n",
       "    </tr>\n",
       "    <tr>\n",
       "      <th>1</th>\n",
       "      <td>I recently got a promotion at work, which I th...</td>\n",
       "      <td>I can understand how it can be overwhelming wh...</td>\n",
       "    </tr>\n",
       "    <tr>\n",
       "      <th>2</th>\n",
       "      <td>Well, the workload has increased significantly...</td>\n",
       "      <td>It sounds like you're dealing with a lot of pr...</td>\n",
       "    </tr>\n",
       "    <tr>\n",
       "      <th>3</th>\n",
       "      <td>I've been trying to prioritize my tasks and de...</td>\n",
       "      <td>It's great to hear that you're already impleme...</td>\n",
       "    </tr>\n",
       "    <tr>\n",
       "      <th>4</th>\n",
       "      <td>You're right. I haven't really opened up about...</td>\n",
       "      <td>It's completely normal to feel that way, but r...</td>\n",
       "    </tr>\n",
       "  </tbody>\n",
       "</table>\n",
       "</div>"
      ],
      "text/plain": [
       "                                            question  \\\n",
       "0  I've been feeling so sad and overwhelmed latel...   \n",
       "1  I recently got a promotion at work, which I th...   \n",
       "2  Well, the workload has increased significantly...   \n",
       "3  I've been trying to prioritize my tasks and de...   \n",
       "4  You're right. I haven't really opened up about...   \n",
       "\n",
       "                                              answer  \n",
       "0  Hey there, I'm here to listen and support you....  \n",
       "1  I can understand how it can be overwhelming wh...  \n",
       "2  It sounds like you're dealing with a lot of pr...  \n",
       "3  It's great to hear that you're already impleme...  \n",
       "4  It's completely normal to feel that way, but r...  "
      ]
     },
     "execution_count": 19,
     "metadata": {},
     "output_type": "execute_result"
    }
   ],
   "source": [
    "data.head()"
   ]
  },
  {
   "cell_type": "code",
   "execution_count": 20,
   "metadata": {},
   "outputs": [
    {
     "data": {
      "text/html": [
       "<div>\n",
       "<style scoped>\n",
       "    .dataframe tbody tr th:only-of-type {\n",
       "        vertical-align: middle;\n",
       "    }\n",
       "\n",
       "    .dataframe tbody tr th {\n",
       "        vertical-align: top;\n",
       "    }\n",
       "\n",
       "    .dataframe thead th {\n",
       "        text-align: right;\n",
       "    }\n",
       "</style>\n",
       "<table border=\"1\" class=\"dataframe\">\n",
       "  <thead>\n",
       "    <tr style=\"text-align: right;\">\n",
       "      <th></th>\n",
       "      <th>question</th>\n",
       "      <th>answer</th>\n",
       "    </tr>\n",
       "  </thead>\n",
       "  <tbody>\n",
       "    <tr>\n",
       "      <th>0</th>\n",
       "      <td>I think both of us have certain expectations a...</td>\n",
       "      <td>It sounds like you're juggling multiple priori...</td>\n",
       "    </tr>\n",
       "    <tr>\n",
       "      <th>1</th>\n",
       "      <td>I think my first goal will be to join a local ...</td>\n",
       "      <td>That's a fantastic goal, ! Making new connecti...</td>\n",
       "    </tr>\n",
       "    <tr>\n",
       "      <th>2</th>\n",
       "      <td>I haven't thought about that, but it's worth a...</td>\n",
       "      <td>Taking the initiative can make a big differenc...</td>\n",
       "    </tr>\n",
       "    <tr>\n",
       "      <th>3</th>\n",
       "      <td>Yes,, there is a pattern. Whenever I start fee...</td>\n",
       "      <td>It's insightful that you've identified this pa...</td>\n",
       "    </tr>\n",
       "    <tr>\n",
       "      <th>4</th>\n",
       "      <td>I'm feeling really distracted lately, Alex. It...</td>\n",
       "      <td>I'm so sorry to hear that, Charlie. It sounds ...</td>\n",
       "    </tr>\n",
       "    <tr>\n",
       "      <th>5</th>\n",
       "      <td>I'm grateful for your guidance.  It's comforti...</td>\n",
       "      <td>You're welcome.  Remember, you're never alone ...</td>\n",
       "    </tr>\n",
       "    <tr>\n",
       "      <th>6</th>\n",
       "      <td>Yes, Alex, I have. I've noticed that when we d...</td>\n",
       "      <td>That's wonderful to hear, Charlie. It's amazin...</td>\n",
       "    </tr>\n",
       "    <tr>\n",
       "      <th>7</th>\n",
       "      <td>I haven't thought about it, to be honest. I su...</td>\n",
       "      <td>A professional mediator might indeed be benefi...</td>\n",
       "    </tr>\n",
       "    <tr>\n",
       "      <th>8</th>\n",
       "      <td>Absolutely, Alex! So, I've come to understand ...</td>\n",
       "      <td>It's remarkable that you've been able to ident...</td>\n",
       "    </tr>\n",
       "    <tr>\n",
       "      <th>9</th>\n",
       "      <td>I'm having trouble sleeping at night. What can...</td>\n",
       "      <td>I'm having trouble sleeping at night. What can...</td>\n",
       "    </tr>\n",
       "  </tbody>\n",
       "</table>\n",
       "</div>"
      ],
      "text/plain": [
       "                                            question  \\\n",
       "0  I think both of us have certain expectations a...   \n",
       "1  I think my first goal will be to join a local ...   \n",
       "2  I haven't thought about that, but it's worth a...   \n",
       "3  Yes,, there is a pattern. Whenever I start fee...   \n",
       "4  I'm feeling really distracted lately, Alex. It...   \n",
       "5  I'm grateful for your guidance.  It's comforti...   \n",
       "6  Yes, Alex, I have. I've noticed that when we d...   \n",
       "7  I haven't thought about it, to be honest. I su...   \n",
       "8  Absolutely, Alex! So, I've come to understand ...   \n",
       "9  I'm having trouble sleeping at night. What can...   \n",
       "\n",
       "                                              answer  \n",
       "0  It sounds like you're juggling multiple priori...  \n",
       "1  That's a fantastic goal, ! Making new connecti...  \n",
       "2  Taking the initiative can make a big differenc...  \n",
       "3  It's insightful that you've identified this pa...  \n",
       "4  I'm so sorry to hear that, Charlie. It sounds ...  \n",
       "5  You're welcome.  Remember, you're never alone ...  \n",
       "6  That's wonderful to hear, Charlie. It's amazin...  \n",
       "7  A professional mediator might indeed be benefi...  \n",
       "8  It's remarkable that you've been able to ident...  \n",
       "9  I'm having trouble sleeping at night. What can...  "
      ]
     },
     "execution_count": 20,
     "metadata": {},
     "output_type": "execute_result"
    }
   ],
   "source": [
    "data = data.sample(frac=1, random_state=42).reset_index(drop=True)\n",
    "data.head(10)"
   ]
  },
  {
   "cell_type": "markdown",
   "metadata": {},
   "source": [
    "## Data-Preprocess and cleaning"
   ]
  },
  {
   "cell_type": "code",
   "execution_count": 21,
   "metadata": {},
   "outputs": [
    {
     "name": "stdout",
     "output_type": "stream",
     "text": [
      "Processing the data\n",
      "Cleaning completed\n",
      "Dropping the rows with empty question or answer and remove NUll Values\n",
      "Processing complete\n"
     ]
    }
   ],
   "source": [
    "## we will be doing light cleaning cause we will use the sentence transformer model to convert text into vector\n",
    "\n",
    "def clean_text(text):\n",
    "    if isinstance(text, str):\n",
    "        text = re.sub(r'\\s+', ' ', text).strip()\n",
    "        text = text.replace('\\n', ' ').replace('\\r', ' ')\n",
    "        \n",
    "        return text\n",
    "    return \"\"\n",
    "\n",
    "print(\"Processing the data\")\n",
    "## Apply the cleaning to both the columns\n",
    "data['question'] = data['question'].apply(clean_text)\n",
    "data['answer'] = data['answer'].apply(clean_text)\n",
    "\n",
    "print(\"Cleaning completed\")\n",
    "\n",
    "print(\"Dropping the rows with empty question or answer and remove NUll Values\")\n",
    "## Drop the rows with empty question or answer and remove NUll Values \n",
    "data.dropna(subset=['question', 'answer'], inplace=True)\n",
    "data = data[(data[\"question\"].str.strip() != \"\") & (data[\"answer\"].str.strip() != \"\")]\n",
    "data.reset_index(drop=True, inplace=True)\n",
    "\n",
    "print(\"Processing complete\")"
   ]
  },
  {
   "cell_type": "markdown",
   "metadata": {},
   "source": [
    "## Load The Transformer Model "
   ]
  },
  {
   "cell_type": "code",
   "execution_count": null,
   "metadata": {},
   "outputs": [
    {
     "name": "stdout",
     "output_type": "stream",
     "text": [
      "Converting the question column to list for processing\n"
     ]
    },
    {
     "data": {
      "application/vnd.jupyter.widget-view+json": {
       "model_id": "de42d98c33154435ab921714e257d379",
       "version_major": 2,
       "version_minor": 0
      },
      "text/plain": [
       "Batches:   0%|          | 0/25575 [00:00<?, ?it/s]"
      ]
     },
     "metadata": {},
     "output_type": "display_data"
    }
   ],
   "source": [
    "## Load the model\n",
    "model = SentenceTransformer('BAAI/bge-large-en', device='cuda')\n",
    "\n",
    "## let's convert the question column to list for processing\n",
    "print(\"Converting the question column to list for processing\")\n",
    "questions = data['question'].tolist()\n",
    "embeddings = model.encode(questions, show_progress_bar=True, batch_size=64)\n",
    "print(\"Embedding completed\")"
   ]
  },
  {
   "cell_type": "markdown",
   "metadata": {},
   "source": [
    "## Let's use FAISS (Facebook AI Similarity Search)"
   ]
  },
  {
   "cell_type": "code",
   "execution_count": 12,
   "metadata": {},
   "outputs": [
    {
     "name": "stdout",
     "output_type": "stream",
     "text": [
      "797944\n"
     ]
    }
   ],
   "source": [
    "dimension = embeddings.shape[1]\n",
    "index = faiss.IndexFlatIP(dimension)\n",
    "index.add(np.array(embeddings).astype(\"float32\"))\n",
    "print(index.ntotal)"
   ]
  },
  {
   "cell_type": "code",
   "execution_count": 13,
   "metadata": {},
   "outputs": [],
   "source": [
    "faiss.write_index(index, \"faiss_index.idx\")"
   ]
  },
  {
   "cell_type": "markdown",
   "metadata": {},
   "source": [
    "## Perform retrieval for new query"
   ]
  },
  {
   "cell_type": "code",
   "execution_count": 14,
   "metadata": {},
   "outputs": [
    {
     "name": "stdout",
     "output_type": "stream",
     "text": [
      "Performing retrieval\n",
      "retrieval completed\n",
      "Question: I'm scared. My dreams seem to be slipping away.\n",
      "Answer: I can sense the sadness in your words. Addiction can have a powerful hold on our lives, making it difficult to chase our dreams. Can you tell me more about what you're going through?\n",
      "Question: Well, my dreams have become really intense and disturbing. They are filled with dark imagery, and I always wake up feeling scared and unsettled. I think they are a reflection of the constant worry I have during the day.\n",
      "Answer: It sounds like your dreams are amplifying your worries and adding to your anxiety. Anxiety can manifest in our dreams, often as a way for our subconscious mind to process our fears. Have you noticed any specific themes or patterns in these dreams?\n",
      "Question: I'm scared. It feels like my dreams are slipping away.\n",
      "Answer: I'm here for you. Can you tell me more about why you're feeling scared and how your dreams are being affected?\n",
      "Question: I'm worried. My dreams lately have been leaving me feeling anxious and unsettled.\n",
      "Answer: Thank you for sharing. It takes courage to express our concerns. Can you tell me more about these dreams and what specifically is causing you anxiety?\n",
      "Question: I've noticed that most of my dreams revolve around feelings of failure and inadequacy. It's like my subconscious is constantly reminding me of my insecurities and past mistakes. It's exhausting to carry all these negative thoughts into my sleep and wake up feeling even more mentally drained.\n",
      "Answer: It's understandable that these dreams are adding to your feeling of exhaustion. Our minds often process our emotions and experiences during sleep, but when negative thoughts dominate our dreams, it can take a toll on our overall well-being., have you considered exploring any techniques or strategies to help improve the quality of your sleep and reduce the impact of these troubling dreams?\n"
     ]
    }
   ],
   "source": [
    "user = \"I am getting bad dreams\"\n",
    "query_embedding = model.encode([user]).astype(\"float32\")\n",
    "\n",
    "print(\"Performing retrieval\")\n",
    "\n",
    "k = 5\n",
    "distances, indices = index.search(query_embedding, k)\n",
    "\n",
    "print(\"retrieval completed\")        \n",
    "## Show the results\n",
    "for idx in indices[0]:\n",
    "    matched_question = data.iloc[idx]['question']\n",
    "    matched_answer = data.iloc[idx]['answer']\n",
    "    \n",
    "    print(f\"Question: {matched_question}\")\n",
    "    print(f\"Answer: {matched_answer}\")"
   ]
  },
  {
   "cell_type": "code",
   "execution_count": 15,
   "metadata": {},
   "outputs": [
    {
     "data": {
      "text/plain": [
       "'from huggingface_hub import login\\nlogin()'"
      ]
     },
     "execution_count": 15,
     "metadata": {},
     "output_type": "execute_result"
    }
   ],
   "source": [
    "'''from huggingface_hub import login\n",
    "login()'''"
   ]
  },
  {
   "cell_type": "code",
   "execution_count": 16,
   "metadata": {},
   "outputs": [],
   "source": [
    "data.to_csv(\"cleaned_data.csv\", index=False)"
   ]
  }
 ],
 "metadata": {
  "kernelspec": {
   "display_name": "mental-health-chatbot",
   "language": "python",
   "name": "python3"
  },
  "language_info": {
   "codemirror_mode": {
    "name": "ipython",
    "version": 3
   },
   "file_extension": ".py",
   "mimetype": "text/x-python",
   "name": "python",
   "nbconvert_exporter": "python",
   "pygments_lexer": "ipython3",
   "version": "3.10.16"
  }
 },
 "nbformat": 4,
 "nbformat_minor": 2
}
